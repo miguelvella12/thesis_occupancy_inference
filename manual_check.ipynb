{
 "cells": [
  {
   "cell_type": "code",
   "id": "initial_id",
   "metadata": {
    "collapsed": true,
    "ExecuteTime": {
     "end_time": "2025-06-10T16:26:14.818816Z",
     "start_time": "2025-06-10T16:26:11.743062Z"
    }
   },
   "source": [
    "from influxdb_client import InfluxDBClient\n",
    "import pandas as pd\n",
    "import torch\n",
    "import numpy as np\n",
    "from torch.utils.data import DataLoader, TensorDataset\n",
    "from data.dataset_loader import add_contextual_features\n",
    "from models.lstm import LSTMModel\n",
    "from models.hybrid import HybridLSTMTransformerModel\n",
    "from models.transformer import TransformerModel\n",
    "from pprint import pprint"
   ],
   "outputs": [],
   "execution_count": 1
  },
  {
   "metadata": {
    "ExecuteTime": {
     "end_time": "2025-06-10T16:26:15.312944Z",
     "start_time": "2025-06-10T16:26:14.834801Z"
    }
   },
   "cell_type": "code",
   "source": [
    "from utils.train import evaluate_model\n",
    "\n",
    "features = ['airquality', 'light', 'hour_of_day', 'is_weekend', 'airquality_delta', 'airquality_trend']\n",
    "\n",
    "device = torch.device('cuda' if torch.cuda.is_available() else 'cpu')\n",
    "\n",
    "def create_sequences(X, y, seq_len=30):\n",
    "    X_seq, y_seq = [], []\n",
    "    for i in range(len(X) - seq_len + 1):\n",
    "        X_seq.append(X[i:i+seq_len])\n",
    "        y_seq.append(y[i + seq_len - 1])  # label at last time step\n",
    "    return np.array(X_seq), np.array(y_seq)\n",
    "\n",
    "def evaluate_on_manual_df(manual_df, features, model_paths, seq_len=30, batch_size=64, device='cpu'):\n",
    "    results = {}\n",
    "\n",
    "    # Drop missing rows\n",
    "    df = manual_df.dropna(subset=features + ['occupancy'])\n",
    "    X = df[features].values.astype(float)\n",
    "    y = df['occupancy'].values.astype(float)\n",
    "\n",
    "    # Create sequences\n",
    "    X_seq, y_seq = create_sequences(X, y, seq_len=seq_len)\n",
    "    X_tensor = torch.tensor(X_seq, dtype=torch.float32).to(device)\n",
    "    y_tensor = torch.tensor(y_seq, dtype=torch.float32).to(device)\n",
    "\n",
    "    # Create DataLoader\n",
    "    dataset = TensorDataset(X_tensor, y_tensor)\n",
    "    dataloader = DataLoader(dataset, batch_size=batch_size, shuffle=False)\n",
    "\n",
    "    # Load models from provided dictionary and evaluate\n",
    "    for model_name, checkpoint_path in model_paths.items():\n",
    "        model = load_model(\n",
    "        model_name=model_name,\n",
    "        input_dim=len(features),\n",
    "        checkpoint_path=checkpoint_path,\n",
    "        device=device\n",
    "        )\n",
    "        result = evaluate_model(model, dataloader, loss_fn=torch.nn.BCEWithLogitsLoss(), device=device, split_name=\"manual\")\n",
    "        results[model_name] = result\n",
    "\n",
    "    return results\n",
    "\n",
    "def load_model(model_name, checkpoint_path, device, input_dim=len(features), **kwargs):\n",
    "    model = None\n",
    "\n",
    "    if model_name == 'lstm':\n",
    "        model = LSTMModel(input_dim, hidden_dim=64, num_layers=2, dropout=0.2)\n",
    "        model.load_state_dict(torch.load(checkpoint_path, map_location=device))\n",
    "    elif model_name == 'transformer':\n",
    "        model = TransformerModel(input_dim, d_model=64, nhead=4, num_encoder_layers=2, dropout=0.2)\n",
    "        model.load_state_dict(torch.load(checkpoint_path, map_location=device))\n",
    "    elif model_name == 'hybrid':\n",
    "        lstm_model = LSTMModel(input_dim, hidden_dim=64, num_layers=2, dropout=0.2)\n",
    "        transformer_model = TransformerModel(input_dim, d_model=64, nhead=4, num_encoder_layers=2, dropout=0.2)\n",
    "\n",
    "        model = HybridLSTMTransformerModel(lstm_model, transformer_model)\n",
    "        model.load_state_dict(torch.load(checkpoint_path, map_location=device))\n",
    "\n",
    "    model = model.to(device)\n",
    "    model.eval()\n",
    "    return model"
   ],
   "id": "ef837d0136abbcb1",
   "outputs": [],
   "execution_count": 2
  },
  {
   "metadata": {},
   "cell_type": "markdown",
   "source": "## All Rooms",
   "id": "ec59f64c20fe4771"
  },
  {
   "metadata": {
    "ExecuteTime": {
     "end_time": "2025-06-11T13:34:25.263308Z",
     "start_time": "2025-06-11T13:34:24.320349Z"
    }
   },
   "cell_type": "code",
   "source": [
    "client = InfluxDBClient(\n",
    "    url='http://localhost:8086',\n",
    "    token='VvreOjZoLYmSZKbpufKm0boJlNfifTSToscteblxZwEetIRMP3IGdUu-IMqRkHNhKy9_o5hfDX56IXEtcRifhw==',\n",
    "    org='miguel_master_thesis',\n",
    "    bucket='lab42_sensor_data_manual',\n",
    "    timeout=3_600_00\n",
    ")\n",
    "query_api = client.query_api()\n",
    "\n",
    "query = f'''\n",
    "from(bucket: \"lab42_sensor_data_manual\")\n",
    "  |> range(start: 2025-01-01T00:00:00Z, stop: 2025-05-28T23:59:59Z)\n",
    "  |> pivot(rowKey:[\"_time\"], columnKey: [\"_field\"], valueColumn: \"_value\")\n",
    "  |> keep(columns: [\"_time\", \"room_number\", \"temperature\", \"airquality\", \"light\", \"daylight\", \"capacity\", \"occupancy\"])\n",
    "'''\n",
    "\n",
    "manual_df = query_api.query_data_frame(query, org='miguel_master_thesis')\n",
    "\n",
    "# Combine if multiple tables\n",
    "if isinstance(manual_df, list):\n",
    "    manual_df = pd.concat(manual_df, ignore_index=True)\n",
    "\n",
    "manual_df['_time'] = pd.to_datetime(manual_df['_time'])\n",
    "manual_df = add_contextual_features(manual_df, normalize=True)"
   ],
   "id": "45c1ce3aabac1b39",
   "outputs": [
    {
     "name": "stdout",
     "output_type": "stream",
     "text": [
      "Dropped 0 rows due to NaNs.\n"
     ]
    }
   ],
   "execution_count": 29
  },
  {
   "metadata": {
    "ExecuteTime": {
     "end_time": "2025-06-10T16:26:37.351125Z",
     "start_time": "2025-06-10T16:26:22.425584Z"
    }
   },
   "cell_type": "code",
   "source": [
    "model_paths = {\n",
    "    'lstm': 'checkpoints_and_metrics/lstm_track2.pt',\n",
    "    'transformer': 'checkpoints_and_metrics/transformer_track2.pt',\n",
    "    'hybrid': 'checkpoints_and_metrics/hybrid_track2.pt'\n",
    "}\n",
    "\n",
    "results = evaluate_on_manual_df(manual_df, features, model_paths, seq_len=30, batch_size=64, device=device)"
   ],
   "id": "b44ab3c9f9d4758f",
   "outputs": [],
   "execution_count": 4
  },
  {
   "metadata": {
    "ExecuteTime": {
     "end_time": "2025-06-10T16:26:37.366360Z",
     "start_time": "2025-06-10T16:26:37.362754Z"
    }
   },
   "cell_type": "code",
   "source": "pprint(results) # Track2 All Rooms",
   "id": "2defe9fbc8b19fb6",
   "outputs": [
    {
     "name": "stdout",
     "output_type": "stream",
     "text": [
      "{'hybrid': {'accuracy': 0.6459731179293423,\n",
      "            'aur_roc': np.float64(0.6728206499077101),\n",
      "            'confusion_matrix': [[6440, 10212], [6092, 23309]],\n",
      "            'f1': 0.7408855408283271,\n",
      "            'loss': 0.7634715053530979,\n",
      "            'precision': 0.6953551505026699,\n",
      "            'recall': 0.7927961633958028},\n",
      " 'lstm': {'accuracy': 0.6580027359781122,\n",
      "          'aur_roc': np.float64(0.6698751508245389),\n",
      "          'confusion_matrix': [[5791, 10861], [4889, 24512]],\n",
      "          'f1': 0.7568468830086146,\n",
      "          'loss': 0.754405981542853,\n",
      "          'precision': 0.6929579057473214,\n",
      "          'recall': 0.8337131390088772},\n",
      " 'transformer': {'accuracy': 0.6550930449699259,\n",
      "                 'aur_roc': np.float64(0.6704236638551098),\n",
      "                 'confusion_matrix': [[7337, 9315], [6569, 22832]],\n",
      "                 'f1': 0.7419250016247482,\n",
      "                 'loss': 0.7282477437246901,\n",
      "                 'precision': 0.7102373471863627,\n",
      "                 'recall': 0.776572225434509}}\n"
     ]
    }
   ],
   "execution_count": 5
  },
  {
   "metadata": {
    "ExecuteTime": {
     "end_time": "2025-06-10T16:28:17.911521Z",
     "start_time": "2025-06-10T16:28:17.903330Z"
    }
   },
   "cell_type": "code",
   "source": [
    "from tabulate import tabulate\n",
    "\n",
    "headers = [\"model_track2_allrooms\", \"accuracy\", \"f1\", \"precision\", \"recall\", \"aur_roc\", \"loss\"]\n",
    "rows = []\n",
    "\n",
    "for model, metrics in results.items():\n",
    "    rows.append([\n",
    "        model,\n",
    "        round(metrics[\"accuracy\"], 4),\n",
    "        round(metrics[\"f1\"], 4),\n",
    "        round(metrics[\"precision\"], 4),\n",
    "        round(metrics[\"recall\"], 4),\n",
    "        round(float(metrics[\"aur_roc\"]), 4),\n",
    "        round(metrics[\"loss\"], 4)\n",
    "    ])\n",
    "\n",
    "print(tabulate(rows, headers=headers, tablefmt=\"github\"))"
   ],
   "id": "11dc575fcd8805df",
   "outputs": [
    {
     "name": "stdout",
     "output_type": "stream",
     "text": [
      "| model_track2_allrooms   |   accuracy |     f1 |   precision |   recall |   aur_roc |   loss |\n",
      "|-------------------------|------------|--------|-------------|----------|-----------|--------|\n",
      "| lstm                    |     0.658  | 0.7568 |      0.693  |   0.8337 |    0.6699 | 0.7544 |\n",
      "| transformer             |     0.6551 | 0.7419 |      0.7102 |   0.7766 |    0.6704 | 0.7282 |\n",
      "| hybrid                  |     0.646  | 0.7409 |      0.6954 |   0.7928 |    0.6728 | 0.7635 |\n"
     ]
    }
   ],
   "execution_count": 7
  },
  {
   "metadata": {},
   "cell_type": "markdown",
   "source": "## Singular Rooms",
   "id": "90d8a8d457ac076b"
  },
  {
   "metadata": {},
   "cell_type": "markdown",
   "source": "### Room_11",
   "id": "d18f3cde0f94f58c"
  },
  {
   "metadata": {
    "ExecuteTime": {
     "end_time": "2025-06-10T16:44:46.242312Z",
     "start_time": "2025-06-10T16:44:45.713444Z"
    }
   },
   "cell_type": "code",
   "source": [
    "client = InfluxDBClient(\n",
    "    url='http://localhost:8086',\n",
    "    token='VvreOjZoLYmSZKbpufKm0boJlNfifTSToscteblxZwEetIRMP3IGdUu-IMqRkHNhKy9_o5hfDX56IXEtcRifhw==',\n",
    "    org='miguel_master_thesis',\n",
    "    bucket='lab42_sensor_data_manual',\n",
    "    timeout=3_600_00\n",
    ")\n",
    "query_api = client.query_api()\n",
    "\n",
    "query = f'''\n",
    "from(bucket: \"lab42_sensor_data_manual\")\n",
    "  |> range(start: 2025-01-01T00:00:00Z, stop: 2025-05-28T23:59:59Z)\n",
    "  |> pivot(rowKey:[\"_time\"], columnKey: [\"_field\"], valueColumn: \"_value\")\n",
    "  |> keep(columns: [\"_time\", \"room_number\", \"temperature\", \"airquality\", \"light\", \"daylight\", \"capacity\", \"occupancy\"])\n",
    "'''\n",
    "\n",
    "manual_df = query_api.query_data_frame(query, org='miguel_master_thesis')\n",
    "\n",
    "# Combine if multiple tables\n",
    "if isinstance(manual_df, list):\n",
    "    manual_df = pd.concat(manual_df, ignore_index=True)\n",
    "\n",
    "manual_df['_time'] = pd.to_datetime(manual_df['_time'])\n",
    "manual_df = manual_df[manual_df['room_number'] == 'Room_11']\n",
    "manual_df = add_contextual_features(manual_df, normalize=True)"
   ],
   "id": "3777d73a976381d6",
   "outputs": [
    {
     "name": "stdout",
     "output_type": "stream",
     "text": [
      "Dropped 0 rows due to NaNs.\n"
     ]
    }
   ],
   "execution_count": 19
  },
  {
   "metadata": {
    "ExecuteTime": {
     "end_time": "2025-06-10T16:44:47.333658Z",
     "start_time": "2025-06-10T16:44:46.251931Z"
    }
   },
   "cell_type": "code",
   "source": [
    "model_paths = {\n",
    "    'lstm': 'checkpoints_and_metrics/lstm_track2_room11.pt',\n",
    "    'transformer': 'checkpoints_and_metrics/transformer_track2_room11.pt',\n",
    "    'hybrid': 'checkpoints_and_metrics/hybrid_track2_room11.pt'\n",
    "}\n",
    "\n",
    "results = evaluate_on_manual_df(manual_df, features, model_paths, seq_len=30, batch_size=64, device=device)"
   ],
   "id": "e38ccf85a01fa0ef",
   "outputs": [],
   "execution_count": 20
  },
  {
   "metadata": {
    "ExecuteTime": {
     "end_time": "2025-06-10T16:44:47.355891Z",
     "start_time": "2025-06-10T16:44:47.351296Z"
    }
   },
   "cell_type": "code",
   "source": "pprint(results)",
   "id": "29b275d52eb3d4bc",
   "outputs": [
    {
     "name": "stdout",
     "output_type": "stream",
     "text": [
      "{'hybrid': {'accuracy': 0.6493301812450749,\n",
      "            'aur_roc': np.float64(0.8581021245480767),\n",
      "            'confusion_matrix': [[439, 39], [851, 1209]],\n",
      "            'f1': 0.7309552599758162,\n",
      "            'loss': 1.086754083416679,\n",
      "            'precision': 0.96875,\n",
      "            'recall': 0.5868932038834952},\n",
      " 'lstm': {'accuracy': 0.6382978723404256,\n",
      "          'aur_roc': np.float64(0.8666155502295163),\n",
      "          'confusion_matrix': [[435, 43], [875, 1185]],\n",
      "          'f1': 0.7208029197080292,\n",
      "          'loss': 0.6376184248838399,\n",
      "          'precision': 0.9649837133550488,\n",
      "          'recall': 0.5752427184466019},\n",
      " 'transformer': {'accuracy': 0.6469661150512215,\n",
      "                 'aur_roc': np.float64(0.8451842222854125),\n",
      "                 'confusion_matrix': [[438, 40], [856, 1204]],\n",
      "                 'f1': 0.7288135593220338,\n",
      "                 'loss': 1.3805367771201418,\n",
      "                 'precision': 0.9678456591639871,\n",
      "                 'recall': 0.5844660194174758}}\n"
     ]
    }
   ],
   "execution_count": 21
  },
  {
   "metadata": {
    "ExecuteTime": {
     "end_time": "2025-06-10T16:44:48.387631Z",
     "start_time": "2025-06-10T16:44:48.383762Z"
    }
   },
   "cell_type": "code",
   "source": [
    "from tabulate import tabulate\n",
    "\n",
    "headers = [\"model_track2_room11\", \"accuracy\", \"f1\", \"precision\", \"recall\", \"aur_roc\", \"loss\"]\n",
    "rows = []\n",
    "\n",
    "for model, metrics in results.items():\n",
    "    rows.append([\n",
    "        model,\n",
    "        round(metrics[\"accuracy\"], 4),\n",
    "        round(metrics[\"f1\"], 4),\n",
    "        round(metrics[\"precision\"], 4),\n",
    "        round(metrics[\"recall\"], 4),\n",
    "        round(float(metrics[\"aur_roc\"]), 4),\n",
    "        round(metrics[\"loss\"], 4)\n",
    "    ])\n",
    "\n",
    "print(tabulate(rows, headers=headers, tablefmt=\"github\"))"
   ],
   "id": "b7d2903d6aa2605e",
   "outputs": [
    {
     "name": "stdout",
     "output_type": "stream",
     "text": [
      "| model_track2_l110   |   accuracy |     f1 |   precision |   recall |   aur_roc |   loss |\n",
      "|---------------------|------------|--------|-------------|----------|-----------|--------|\n",
      "| lstm                |     0.6383 | 0.7208 |      0.965  |   0.5752 |    0.8666 | 0.6376 |\n",
      "| transformer         |     0.647  | 0.7288 |      0.9678 |   0.5845 |    0.8452 | 1.3805 |\n",
      "| hybrid              |     0.6493 | 0.731  |      0.9688 |   0.5869 |    0.8581 | 1.0868 |\n"
     ]
    }
   ],
   "execution_count": 22
  },
  {
   "metadata": {},
   "cell_type": "markdown",
   "source": "### Room_02",
   "id": "f68c2b35ecef065d"
  },
  {
   "metadata": {
    "ExecuteTime": {
     "end_time": "2025-06-10T16:50:35.526510Z",
     "start_time": "2025-06-10T16:50:34.989649Z"
    }
   },
   "cell_type": "code",
   "source": [
    "client = InfluxDBClient(\n",
    "    url='http://localhost:8086',\n",
    "    token='VvreOjZoLYmSZKbpufKm0boJlNfifTSToscteblxZwEetIRMP3IGdUu-IMqRkHNhKy9_o5hfDX56IXEtcRifhw==',\n",
    "    org='miguel_master_thesis',\n",
    "    bucket='lab42_sensor_data_manual',\n",
    "    timeout=3_600_00\n",
    ")\n",
    "query_api = client.query_api()\n",
    "\n",
    "query = f'''\n",
    "from(bucket: \"lab42_sensor_data_manual\")\n",
    "  |> range(start: 2025-01-01T00:00:00Z, stop: 2025-05-28T23:59:59Z)\n",
    "  |> pivot(rowKey:[\"_time\"], columnKey: [\"_field\"], valueColumn: \"_value\")\n",
    "  |> keep(columns: [\"_time\", \"room_number\", \"temperature\", \"airquality\", \"light\", \"daylight\", \"capacity\", \"occupancy\"])\n",
    "'''\n",
    "\n",
    "manual_df = query_api.query_data_frame(query, org='miguel_master_thesis')\n",
    "\n",
    "# Combine if multiple tables\n",
    "if isinstance(manual_df, list):\n",
    "    manual_df = pd.concat(manual_df, ignore_index=True)\n",
    "\n",
    "manual_df['_time'] = pd.to_datetime(manual_df['_time'])\n",
    "manual_df = manual_df[manual_df['room_number'] == 'Room_02']\n",
    "manual_df = add_contextual_features(manual_df, normalize=True)"
   ],
   "id": "1bc4f9ba22cada9",
   "outputs": [
    {
     "name": "stdout",
     "output_type": "stream",
     "text": [
      "Dropped 0 rows due to NaNs.\n"
     ]
    }
   ],
   "execution_count": 24
  },
  {
   "metadata": {
    "ExecuteTime": {
     "end_time": "2025-06-10T16:50:37.112297Z",
     "start_time": "2025-06-10T16:50:35.628331Z"
    }
   },
   "cell_type": "code",
   "source": [
    "model_paths = {\n",
    "    'lstm': 'checkpoints_and_metrics/lstm_track2_room02.pt',\n",
    "    'transformer': 'checkpoints_and_metrics/transformer_track2_room02.pt',\n",
    "    'hybrid': 'checkpoints_and_metrics/hybrid_track2_room02.pt'\n",
    "}\n",
    "\n",
    "results = evaluate_on_manual_df(manual_df, features, model_paths, seq_len=30, batch_size=64, device=device)"
   ],
   "id": "c4c68843b816dd3a",
   "outputs": [],
   "execution_count": 25
  },
  {
   "metadata": {
    "ExecuteTime": {
     "end_time": "2025-06-10T16:50:37.132980Z",
     "start_time": "2025-06-10T16:50:37.129324Z"
    }
   },
   "cell_type": "code",
   "source": "pprint(results)",
   "id": "cc49b840ca3fcc1e",
   "outputs": [
    {
     "name": "stdout",
     "output_type": "stream",
     "text": [
      "{'hybrid': {'accuracy': 0.8526398739164697,\n",
      "            'aur_roc': np.float64(0.6617406734896005),\n",
      "            'confusion_matrix': [[9, 199], [175, 2155]],\n",
      "            'f1': 0.9201537147736977,\n",
      "            'loss': 0.5528194910541202,\n",
      "            'precision': 0.9154630416312659,\n",
      "            'recall': 0.924892703862661},\n",
      " 'lstm': {'accuracy': 0.8353033884948778,\n",
      "          'aur_roc': np.float64(0.6440017332452955),\n",
      "          'confusion_matrix': [[35, 173], [245, 2085]],\n",
      "          'f1': 0.9088927637314734,\n",
      "          'loss': 0.5978494608825713,\n",
      "          'precision': 0.9233835252435784,\n",
      "          'recall': 0.8948497854077253},\n",
      " 'transformer': {'accuracy': 0.8498817966903073,\n",
      "                 'aur_roc': np.float64(0.6274801914823374),\n",
      "                 'confusion_matrix': [[15, 193], [188, 2142]],\n",
      "                 'f1': 0.9183279742765273,\n",
      "                 'loss': 0.4629684198531777,\n",
      "                 'precision': 0.9173447537473234,\n",
      "                 'recall': 0.91931330472103}}\n"
     ]
    }
   ],
   "execution_count": 26
  },
  {
   "metadata": {
    "ExecuteTime": {
     "end_time": "2025-06-10T16:50:37.249741Z",
     "start_time": "2025-06-10T16:50:37.244164Z"
    }
   },
   "cell_type": "code",
   "source": [
    "from tabulate import tabulate\n",
    "\n",
    "headers = [\"model_track2_room02\", \"accuracy\", \"f1\", \"precision\", \"recall\", \"aur_roc\", \"loss\"]\n",
    "rows = []\n",
    "\n",
    "for model, metrics in results.items():\n",
    "    rows.append([\n",
    "        model,\n",
    "        round(metrics[\"accuracy\"], 4),\n",
    "        round(metrics[\"f1\"], 4),\n",
    "        round(metrics[\"precision\"], 4),\n",
    "        round(metrics[\"recall\"], 4),\n",
    "        round(float(metrics[\"aur_roc\"]), 4),\n",
    "        round(metrics[\"loss\"], 4)\n",
    "    ])\n",
    "\n",
    "print(tabulate(rows, headers=headers, tablefmt=\"github\"))"
   ],
   "id": "49648ff0fdb10bae",
   "outputs": [
    {
     "name": "stdout",
     "output_type": "stream",
     "text": [
      "| model_track2_l009   |   accuracy |     f1 |   precision |   recall |   aur_roc |   loss |\n",
      "|---------------------|------------|--------|-------------|----------|-----------|--------|\n",
      "| lstm                |     0.8353 | 0.9089 |      0.9234 |   0.8948 |    0.644  | 0.5978 |\n",
      "| transformer         |     0.8499 | 0.9183 |      0.9173 |   0.9193 |    0.6275 | 0.463  |\n",
      "| hybrid              |     0.8526 | 0.9202 |      0.9155 |   0.9249 |    0.6617 | 0.5528 |\n"
     ]
    }
   ],
   "execution_count": 27
  },
  {
   "metadata": {},
   "cell_type": "markdown",
   "source": "### Room_06",
   "id": "218b98ac77b55859"
  },
  {
   "metadata": {
    "ExecuteTime": {
     "end_time": "2025-05-22T12:03:16.573564Z",
     "start_time": "2025-05-22T12:03:16.182054Z"
    }
   },
   "cell_type": "code",
   "source": [
    "client = InfluxDBClient(\n",
    "    url='http://localhost:8086',\n",
    "    token='VvreOjZoLYmSZKbpufKm0boJlNfifTSToscteblxZwEetIRMP3IGdUu-IMqRkHNhKy9_o5hfDX56IXEtcRifhw==',\n",
    "    org='miguel_master_thesis',\n",
    "    bucket='lab42_sensor_data_manual',\n",
    "    timeout=3_600_00\n",
    ")\n",
    "query_api = client.query_api()\n",
    "\n",
    "query = f'''\n",
    "from(bucket: \"lab42_sensor_data_manual\")\n",
    "  |> range(start: 2025-01-01T00:00:00Z, stop: 2025-05-28T23:59:59Z)\n",
    "  |> pivot(rowKey:[\"_time\"], columnKey: [\"_field\"], valueColumn: \"_value\")\n",
    "  |> keep(columns: [\"_time\", \"room_number\", \"temperature\", \"airquality\", \"light\", \"daylight\", \"capacity\", \"occupancy\"])\n",
    "'''\n",
    "\n",
    "manual_df = query_api.query_data_frame(query, org='miguel_master_thesis')\n",
    "\n",
    "# Combine if multiple tables\n",
    "if isinstance(manual_df, list):\n",
    "    manual_df = pd.concat(manual_df, ignore_index=True)\n",
    "\n",
    "manual_df['_time'] = pd.to_datetime(manual_df['_time'])\n",
    "manual_df = manual_df[manual_df['room_number'] == 'Room_06']\n",
    "manual_df = add_contextual_features(manual_df, normalize=True)"
   ],
   "id": "7d6c72ff3769dc94",
   "outputs": [
    {
     "name": "stdout",
     "output_type": "stream",
     "text": [
      "Dropped 0 rows due to NaNs.\n"
     ]
    }
   ],
   "execution_count": 30
  },
  {
   "metadata": {
    "ExecuteTime": {
     "end_time": "2025-05-22T12:03:17.338275Z",
     "start_time": "2025-05-22T12:03:16.579719Z"
    }
   },
   "cell_type": "code",
   "source": [
    "model_paths = {\n",
    "    'lstm': 'checkpoints_and_metrics/lstm_track2_room06.pt',\n",
    "    'transformer': 'checkpoints_and_metrics/transformer_track2_room06.pt',\n",
    "    'hybrid': 'checkpoints_and_metrics/hybrid_track2_room06.pt'\n",
    "}\n",
    "\n",
    "results = evaluate_on_manual_df(manual_df, features, model_paths, seq_len=30, batch_size=64, device=device)"
   ],
   "id": "1915f8ce1dc4efb0",
   "outputs": [],
   "execution_count": 31
  },
  {
   "metadata": {
    "ExecuteTime": {
     "end_time": "2025-05-22T12:03:17.346294Z",
     "start_time": "2025-05-22T12:03:17.344328Z"
    }
   },
   "cell_type": "code",
   "source": "pprint(results)",
   "id": "b97965cef2a39160",
   "outputs": [
    {
     "name": "stdout",
     "output_type": "stream",
     "text": [
      "{'hybrid': {'accuracy': 0.709105242412298,\n",
      "            'aur_roc': np.float64(0.864251848136338),\n",
      "            'confusion_matrix': [[283, 107], [631, 1516]],\n",
      "            'f1': 0.8042440318302387,\n",
      "            'loss': 0.5335944560080179,\n",
      "            'precision': 0.9340727048675292,\n",
      "            'recall': 0.7061015370284117},\n",
      " 'lstm': {'accuracy': 0.7000394166338195,\n",
      "          'aur_roc': np.float64(0.8606953053157058),\n",
      "          'confusion_matrix': [[284, 106], [655, 1492]],\n",
      "          'f1': 0.7967957276368491,\n",
      "          'loss': 0.5689420983436776,\n",
      "          'precision': 0.9336670838548186,\n",
      "          'recall': 0.6949231485794132},\n",
      " 'transformer': {'accuracy': 0.7323610563657864,\n",
      "                 'aur_roc': np.float64(0.8698458194499182),\n",
      "                 'confusion_matrix': [[287, 103], [576, 1571]],\n",
      "                 'f1': 0.8222978277937713,\n",
      "                 'loss': 0.6342906895413762,\n",
      "                 'precision': 0.9384707287933094,\n",
      "                 'recall': 0.7317186772240335}}\n"
     ]
    }
   ],
   "execution_count": 32
  },
  {
   "metadata": {
    "ExecuteTime": {
     "end_time": "2025-05-22T12:03:17.356761Z",
     "start_time": "2025-05-22T12:03:17.354207Z"
    }
   },
   "cell_type": "code",
   "source": [
    "from tabulate import tabulate\n",
    "\n",
    "headers = [\"model_track2_room06\", \"accuracy\", \"f1\", \"precision\", \"recall\", \"aur_roc\", \"loss\"]\n",
    "rows = []\n",
    "\n",
    "for model, metrics in results.items():\n",
    "    rows.append([\n",
    "        model,\n",
    "        round(metrics[\"accuracy\"], 4),\n",
    "        round(metrics[\"f1\"], 4),\n",
    "        round(metrics[\"precision\"], 4),\n",
    "        round(metrics[\"recall\"], 4),\n",
    "        round(float(metrics[\"aur_roc\"]), 4),\n",
    "        round(metrics[\"loss\"], 4)\n",
    "    ])\n",
    "\n",
    "print(tabulate(rows, headers=headers, tablefmt=\"github\"))"
   ],
   "id": "4ad8170dfd59f34b",
   "outputs": [
    {
     "name": "stdout",
     "output_type": "stream",
     "text": [
      "| model_track2_l101   |   accuracy |     f1 |   precision |   recall |   aur_roc |   loss |\n",
      "|---------------------|------------|--------|-------------|----------|-----------|--------|\n",
      "| lstm                |     0.7    | 0.7968 |      0.9337 |   0.6949 |    0.8607 | 0.5689 |\n",
      "| transformer         |     0.7324 | 0.8223 |      0.9385 |   0.7317 |    0.8698 | 0.6343 |\n",
      "| hybrid              |     0.7091 | 0.8042 |      0.9341 |   0.7061 |    0.8643 | 0.5336 |\n"
     ]
    }
   ],
   "execution_count": 33
  }
 ],
 "metadata": {
  "kernelspec": {
   "display_name": "Python 3",
   "language": "python",
   "name": "python3"
  },
  "language_info": {
   "codemirror_mode": {
    "name": "ipython",
    "version": 2
   },
   "file_extension": ".py",
   "mimetype": "text/x-python",
   "name": "python",
   "nbconvert_exporter": "python",
   "pygments_lexer": "ipython2",
   "version": "2.7.6"
  }
 },
 "nbformat": 4,
 "nbformat_minor": 5
}
